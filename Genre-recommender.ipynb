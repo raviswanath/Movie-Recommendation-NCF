{
 "cells": [
  {
   "cell_type": "code",
   "execution_count": 10,
   "id": "5f320eaf",
   "metadata": {},
   "outputs": [],
   "source": [
    "import pandas as pd \n",
    "import numpy as np\n",
    "from sklearn.feature_extraction.text import TfidfVectorizer\n",
    "from sklearn.metrics.pairwise import cosine_similarity"
   ]
  },
  {
   "cell_type": "code",
   "execution_count": 11,
   "id": "bc6bcafc",
   "metadata": {},
   "outputs": [],
   "source": [
    "path = '/Users/aadithyaviswanathr/.cache/kagglehub/datasets/parasharmanas/movie-recommendation-system/versions/1'\n",
    "df = pd.read_csv(path + \"/combined.csv\")\n",
    "movies = pd.read_csv(path+ \"/movies.csv\")"
   ]
  },
  {
   "cell_type": "code",
   "execution_count": 12,
   "id": "3bf28913",
   "metadata": {},
   "outputs": [],
   "source": [
    "df.drop(['Unnamed: 0'], axis=1, inplace=True)"
   ]
  },
  {
   "cell_type": "code",
   "execution_count": 13,
   "id": "9dfe59fc",
   "metadata": {},
   "outputs": [
    {
     "data": {
      "text/html": [
       "<div>\n",
       "<style scoped>\n",
       "    .dataframe tbody tr th:only-of-type {\n",
       "        vertical-align: middle;\n",
       "    }\n",
       "\n",
       "    .dataframe tbody tr th {\n",
       "        vertical-align: top;\n",
       "    }\n",
       "\n",
       "    .dataframe thead th {\n",
       "        text-align: right;\n",
       "    }\n",
       "</style>\n",
       "<table border=\"1\" class=\"dataframe\">\n",
       "  <thead>\n",
       "    <tr style=\"text-align: right;\">\n",
       "      <th></th>\n",
       "      <th>userId</th>\n",
       "      <th>movieId</th>\n",
       "      <th>rating</th>\n",
       "      <th>title</th>\n",
       "      <th>genres</th>\n",
       "      <th>year_of_release</th>\n",
       "      <th>category</th>\n",
       "    </tr>\n",
       "  </thead>\n",
       "  <tbody>\n",
       "    <tr>\n",
       "      <th>0</th>\n",
       "      <td>1</td>\n",
       "      <td>296</td>\n",
       "      <td>5.0</td>\n",
       "      <td>Pulp Fiction (1994)</td>\n",
       "      <td>Comedy|Crime|Drama|Thriller</td>\n",
       "      <td>1994</td>\n",
       "      <td>Millenial</td>\n",
       "    </tr>\n",
       "    <tr>\n",
       "      <th>1</th>\n",
       "      <td>1</td>\n",
       "      <td>306</td>\n",
       "      <td>3.5</td>\n",
       "      <td>Three Colors: Red (Trois couleurs: Rouge) (1994)</td>\n",
       "      <td>Drama</td>\n",
       "      <td>1994</td>\n",
       "      <td>Millenial</td>\n",
       "    </tr>\n",
       "    <tr>\n",
       "      <th>2</th>\n",
       "      <td>1</td>\n",
       "      <td>307</td>\n",
       "      <td>5.0</td>\n",
       "      <td>Three Colors: Blue (Trois couleurs: Bleu) (1993)</td>\n",
       "      <td>Drama</td>\n",
       "      <td>1993</td>\n",
       "      <td>Millenial</td>\n",
       "    </tr>\n",
       "    <tr>\n",
       "      <th>3</th>\n",
       "      <td>1</td>\n",
       "      <td>665</td>\n",
       "      <td>5.0</td>\n",
       "      <td>Underground (1995)</td>\n",
       "      <td>Comedy|Drama|War</td>\n",
       "      <td>1995</td>\n",
       "      <td>Millenial</td>\n",
       "    </tr>\n",
       "    <tr>\n",
       "      <th>4</th>\n",
       "      <td>1</td>\n",
       "      <td>899</td>\n",
       "      <td>3.5</td>\n",
       "      <td>Singin' in the Rain (1952)</td>\n",
       "      <td>Comedy|Musical|Romance</td>\n",
       "      <td>1952</td>\n",
       "      <td>Classic</td>\n",
       "    </tr>\n",
       "  </tbody>\n",
       "</table>\n",
       "</div>"
      ],
      "text/plain": [
       "   userId  movieId  rating                                             title  \\\n",
       "0       1      296     5.0                               Pulp Fiction (1994)   \n",
       "1       1      306     3.5  Three Colors: Red (Trois couleurs: Rouge) (1994)   \n",
       "2       1      307     5.0  Three Colors: Blue (Trois couleurs: Bleu) (1993)   \n",
       "3       1      665     5.0                                Underground (1995)   \n",
       "4       1      899     3.5                        Singin' in the Rain (1952)   \n",
       "\n",
       "                        genres  year_of_release   category  \n",
       "0  Comedy|Crime|Drama|Thriller             1994  Millenial  \n",
       "1                        Drama             1994  Millenial  \n",
       "2                        Drama             1993  Millenial  \n",
       "3             Comedy|Drama|War             1995  Millenial  \n",
       "4       Comedy|Musical|Romance             1952    Classic  "
      ]
     },
     "execution_count": 13,
     "metadata": {},
     "output_type": "execute_result"
    }
   ],
   "source": [
    "df.head()"
   ]
  },
  {
   "cell_type": "code",
   "execution_count": 14,
   "id": "efcbd1f1",
   "metadata": {},
   "outputs": [],
   "source": [
    "import re\n",
    "\n",
    "def clean_title(title):\n",
    "    return re.sub(\"[^a-zA-Z0-9 ]\", \"\", title)\n",
    "\n",
    "df['cleaned_title'] = df['title'].apply(lambda x: clean_title(x))\n",
    "df['genres_list'] = df['genres'].str.replace('|', ' ')"
   ]
  },
  {
   "cell_type": "code",
   "execution_count": 15,
   "id": "8183496b",
   "metadata": {},
   "outputs": [
    {
     "data": {
      "text/html": [
       "<div>\n",
       "<style scoped>\n",
       "    .dataframe tbody tr th:only-of-type {\n",
       "        vertical-align: middle;\n",
       "    }\n",
       "\n",
       "    .dataframe tbody tr th {\n",
       "        vertical-align: top;\n",
       "    }\n",
       "\n",
       "    .dataframe thead th {\n",
       "        text-align: right;\n",
       "    }\n",
       "</style>\n",
       "<table border=\"1\" class=\"dataframe\">\n",
       "  <thead>\n",
       "    <tr style=\"text-align: right;\">\n",
       "      <th></th>\n",
       "      <th>userId</th>\n",
       "      <th>movieId</th>\n",
       "      <th>rating</th>\n",
       "      <th>title</th>\n",
       "      <th>genres</th>\n",
       "      <th>year_of_release</th>\n",
       "      <th>category</th>\n",
       "      <th>cleaned_title</th>\n",
       "      <th>genres_list</th>\n",
       "    </tr>\n",
       "  </thead>\n",
       "  <tbody>\n",
       "    <tr>\n",
       "      <th>0</th>\n",
       "      <td>1</td>\n",
       "      <td>296</td>\n",
       "      <td>5.0</td>\n",
       "      <td>Pulp Fiction (1994)</td>\n",
       "      <td>Comedy|Crime|Drama|Thriller</td>\n",
       "      <td>1994</td>\n",
       "      <td>Millenial</td>\n",
       "      <td>Pulp Fiction 1994</td>\n",
       "      <td>Comedy Crime Drama Thriller</td>\n",
       "    </tr>\n",
       "    <tr>\n",
       "      <th>1</th>\n",
       "      <td>1</td>\n",
       "      <td>306</td>\n",
       "      <td>3.5</td>\n",
       "      <td>Three Colors: Red (Trois couleurs: Rouge) (1994)</td>\n",
       "      <td>Drama</td>\n",
       "      <td>1994</td>\n",
       "      <td>Millenial</td>\n",
       "      <td>Three Colors Red Trois couleurs Rouge 1994</td>\n",
       "      <td>Drama</td>\n",
       "    </tr>\n",
       "    <tr>\n",
       "      <th>2</th>\n",
       "      <td>1</td>\n",
       "      <td>307</td>\n",
       "      <td>5.0</td>\n",
       "      <td>Three Colors: Blue (Trois couleurs: Bleu) (1993)</td>\n",
       "      <td>Drama</td>\n",
       "      <td>1993</td>\n",
       "      <td>Millenial</td>\n",
       "      <td>Three Colors Blue Trois couleurs Bleu 1993</td>\n",
       "      <td>Drama</td>\n",
       "    </tr>\n",
       "    <tr>\n",
       "      <th>3</th>\n",
       "      <td>1</td>\n",
       "      <td>665</td>\n",
       "      <td>5.0</td>\n",
       "      <td>Underground (1995)</td>\n",
       "      <td>Comedy|Drama|War</td>\n",
       "      <td>1995</td>\n",
       "      <td>Millenial</td>\n",
       "      <td>Underground 1995</td>\n",
       "      <td>Comedy Drama War</td>\n",
       "    </tr>\n",
       "    <tr>\n",
       "      <th>4</th>\n",
       "      <td>1</td>\n",
       "      <td>899</td>\n",
       "      <td>3.5</td>\n",
       "      <td>Singin' in the Rain (1952)</td>\n",
       "      <td>Comedy|Musical|Romance</td>\n",
       "      <td>1952</td>\n",
       "      <td>Classic</td>\n",
       "      <td>Singin in the Rain 1952</td>\n",
       "      <td>Comedy Musical Romance</td>\n",
       "    </tr>\n",
       "  </tbody>\n",
       "</table>\n",
       "</div>"
      ],
      "text/plain": [
       "   userId  movieId  rating                                             title  \\\n",
       "0       1      296     5.0                               Pulp Fiction (1994)   \n",
       "1       1      306     3.5  Three Colors: Red (Trois couleurs: Rouge) (1994)   \n",
       "2       1      307     5.0  Three Colors: Blue (Trois couleurs: Bleu) (1993)   \n",
       "3       1      665     5.0                                Underground (1995)   \n",
       "4       1      899     3.5                        Singin' in the Rain (1952)   \n",
       "\n",
       "                        genres  year_of_release   category  \\\n",
       "0  Comedy|Crime|Drama|Thriller             1994  Millenial   \n",
       "1                        Drama             1994  Millenial   \n",
       "2                        Drama             1993  Millenial   \n",
       "3             Comedy|Drama|War             1995  Millenial   \n",
       "4       Comedy|Musical|Romance             1952    Classic   \n",
       "\n",
       "                                cleaned_title                  genres_list  \n",
       "0                           Pulp Fiction 1994  Comedy Crime Drama Thriller  \n",
       "1  Three Colors Red Trois couleurs Rouge 1994                        Drama  \n",
       "2  Three Colors Blue Trois couleurs Bleu 1993                        Drama  \n",
       "3                            Underground 1995             Comedy Drama War  \n",
       "4                     Singin in the Rain 1952       Comedy Musical Romance  "
      ]
     },
     "execution_count": 15,
     "metadata": {},
     "output_type": "execute_result"
    }
   ],
   "source": [
    "df.head()"
   ]
  },
  {
   "cell_type": "code",
   "execution_count": 18,
   "id": "c7350ce7",
   "metadata": {},
   "outputs": [],
   "source": [
    "movies['genres_list'] = movies['genres'].str.replace(\"|\", \" \")"
   ]
  },
  {
   "cell_type": "code",
   "execution_count": 19,
   "id": "abe563ee",
   "metadata": {},
   "outputs": [
    {
     "name": "stdout",
     "output_type": "stream",
     "text": [
      "       movieId                               title genres genres_list\n",
      "17152    90108                   Songwriter (1984)  Drama       Drama\n",
      "11014    47571  Heading South (Vers le sud) (2005)  Drama       Drama\n",
      "23258   117547                  She Monkeys (2011)  Drama       Drama\n",
      "11020    47626                  San Quentin (1937)  Drama       Drama\n",
      "11021    47629                    The Queen (2006)  Drama       Drama\n",
      "23243   117517             Listen Up Philip (2014)  Drama       Drama\n",
      "55834   192837         One Million Yen Girl (2008)  Drama       Drama\n",
      "23260   117551                   Admissions (2004)  Drama       Drama\n",
      "23214   117458                Misunderstood (1984)  Drama       Drama\n",
      "23226   117482               Merry-Go-Round (1923)  Drama       Drama\n"
     ]
    }
   ],
   "source": [
    "vectorizer_genres = TfidfVectorizer(ngram_range=(1,2))\n",
    "\n",
    "tfidf_genres = vectorizer_genres.fit_transform(movies['genres_list'])\n",
    "\n",
    "def search_similar_genres(genres):\n",
    "    query_vec = vectorizer_genres.transform([genres])\n",
    "    similarity = cosine_similarity(query_vec, tfidf_genres).flatten()\n",
    "    indices = np.argpartition(similarity, -10)[-10:]\n",
    "    results = movies.iloc[indices][::-1]\n",
    "    return results\n",
    "\n",
    "gen = 'Drama'\n",
    "print(search_similar_genres(gen))"
   ]
  },
  {
   "cell_type": "code",
   "execution_count": 20,
   "id": "2e1f3e2f",
   "metadata": {},
   "outputs": [
    {
     "name": "stdout",
     "output_type": "stream",
     "text": [
      "       movieId                                              title  \\\n",
      "42247   163456                              Tees Maar Khan (2010)   \n",
      "4570      4675                             Three Fugitives (1989)   \n",
      "29604   134282                               Jaguar Lives! (1979)   \n",
      "51470   183225           Ron Goossens, Low Budget Stuntman (2017)   \n",
      "27065   128223                                Roadhouse 66 (1985)   \n",
      "4596      4701                                 Rush Hour 2 (2001)   \n",
      "6437      6560                               Loose Cannons (1990)   \n",
      "11808    54986  Watch Out, We're Mad (...Altrimenti ci arrabbi...   \n",
      "9122     27193                                      Taxi 2 (2000)   \n",
      "59404   200788                                  Αιγαίο SOS (2018)   \n",
      "\n",
      "              genres    genres_list  \n",
      "42247  Action|Comedy  Action Comedy  \n",
      "4570   Action|Comedy  Action Comedy  \n",
      "29604  Action|Comedy  Action Comedy  \n",
      "51470  Action|Comedy  Action Comedy  \n",
      "27065  Action|Comedy  Action Comedy  \n",
      "4596   Action|Comedy  Action Comedy  \n",
      "6437   Action|Comedy  Action Comedy  \n",
      "11808  Action|Comedy  Action Comedy  \n",
      "9122   Action|Comedy  Action Comedy  \n",
      "59404  Action|Comedy  Action Comedy  \n"
     ]
    }
   ],
   "source": [
    "gen = \"Action Comedy\"\n",
    "print(search_similar_genres(gen))"
   ]
  },
  {
   "cell_type": "code",
   "execution_count": 21,
   "id": "4645a87d",
   "metadata": {},
   "outputs": [
    {
     "name": "stdout",
     "output_type": "stream",
     "text": [
      "       movieId                            title    genres genres_list\n",
      "32966   142110                  Man Down (2015)  Thriller    Thriller\n",
      "36979   151627       All Mistakes Buried (2015)  Thriller    Thriller\n",
      "31406   138534              Daddy's Girl (1996)  Thriller    Thriller\n",
      "29760   134649           Bad Hair Friday (2012)  Thriller    Thriller\n",
      "45511   170537   Vengeance: A Love Story (2017)  Thriller    Thriller\n",
      "51752   183825          American Romance (2016)  Thriller    Thriller\n",
      "29767   134664  Enter the Dangerous Mind (2013)  Thriller    Thriller\n",
      "31413   138550          Suspicious Minds (1997)  Thriller    Thriller\n",
      "18314    95896        388 Arletta Avenue (2011)  Thriller    Thriller\n",
      "2764      2856        I Saw What You Did (1965)  Thriller    Thriller\n"
     ]
    }
   ],
   "source": [
    "gen = \"Thriller\"\n",
    "print(search_similar_genres(gen))"
   ]
  },
  {
   "cell_type": "code",
   "execution_count": null,
   "id": "ef1571b4",
   "metadata": {},
   "outputs": [],
   "source": []
  }
 ],
 "metadata": {
  "kernelspec": {
   "display_name": "base",
   "language": "python",
   "name": "python3"
  },
  "language_info": {
   "codemirror_mode": {
    "name": "ipython",
    "version": 3
   },
   "file_extension": ".py",
   "mimetype": "text/x-python",
   "name": "python",
   "nbconvert_exporter": "python",
   "pygments_lexer": "ipython3",
   "version": "3.12.2"
  }
 },
 "nbformat": 4,
 "nbformat_minor": 5
}
